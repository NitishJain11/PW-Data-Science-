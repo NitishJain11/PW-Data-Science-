{
 "cells": [
  {
   "cell_type": "markdown",
   "id": "831ef923-9f8a-4bf5-bcd3-5492bdc292c2",
   "metadata": {},
   "source": [
    "# Q1. Explain the difference between linear regression and logistic regression models. Provide an example of a scenario where logistic regression would be more appropriate.\n"
   ]
  },
  {
   "cell_type": "markdown",
   "id": "04870ca8-513b-473b-a0f9-5bff8b1acc44",
   "metadata": {},
   "source": [
    "Linear Regression\n",
    "\n",
    "Purpose: Linear regression is used to predict a continuous dependent variable based on one or more independent variables. It estimates the relationship between the dependent variable and the independent variables by fitting a linear equation to the observed data.\n",
    "\n",
    "Logistic Regression\n",
    "\n",
    "Purpose: Logistic regression is used when the dependent variable is categorical, especially when it involves binary outcomes (i.e., two classes). It estimates the probability of the dependent variable falling into one of the categories."
   ]
  },
  {
   "cell_type": "markdown",
   "id": "ae8c771c-d774-4b14-aeab-5037f1b06dd7",
   "metadata": {},
   "source": [
    "Scenario: Predicting Customer Churn\n",
    "\n",
    "Context: A telecommunications company wants to predict whether a customer will churn (i.e., cancel their subscription) in the next 6 months based on various features."
   ]
  },
  {
   "cell_type": "code",
   "execution_count": 1,
   "id": "3bd9c847-1d7c-42b0-bd98-895ad526a79f",
   "metadata": {},
   "outputs": [
    {
     "name": "stdout",
     "output_type": "stream",
     "text": [
      "Accuracy: 1.00\n",
      "Confusion Matrix:\n",
      "[[1 0]\n",
      " [0 2]]\n",
      "Classification Report:\n",
      "              precision    recall  f1-score   support\n",
      "\n",
      "           0       1.00      1.00      1.00         1\n",
      "           1       1.00      1.00      1.00         2\n",
      "\n",
      "    accuracy                           1.00         3\n",
      "   macro avg       1.00      1.00      1.00         3\n",
      "weighted avg       1.00      1.00      1.00         3\n",
      "\n"
     ]
    }
   ],
   "source": [
    "import pandas as pd\n",
    "from sklearn.model_selection import train_test_split\n",
    "from sklearn.linear_model import LogisticRegression\n",
    "from sklearn.metrics import accuracy_score, confusion_matrix, classification_report\n",
    "\n",
    "# Example data (replace with your actual data)\n",
    "data = {\n",
    "    'Age': [25, 40, 35, 50, 29, 60, 22, 45],\n",
    "    'Contract Type': [1, 2, 1, 2, 1, 2, 1, 2],  # 1 = Monthly, 2 = Yearly\n",
    "    'Monthly Charges': [70, 100, 80, 90, 60, 120, 65, 110],\n",
    "    'Tenure': [12, 24, 18, 30, 15, 36, 10, 27],\n",
    "    'Churn': [0, 1, 0, 1, 0, 1, 0, 1]  # 0 = No churn, 1 = Churn\n",
    "}\n",
    "\n",
    "df = pd.DataFrame(data)\n",
    "\n",
    "# Features and target variable\n",
    "X = df[['Age', 'Contract Type', 'Monthly Charges', 'Tenure']]\n",
    "y = df['Churn']\n",
    "\n",
    "# Split the data into training and test sets\n",
    "X_train, X_test, y_train, y_test = train_test_split(X, y, test_size=0.3, random_state=42)\n",
    "\n",
    "# Create and fit the logistic regression model\n",
    "model = LogisticRegression()\n",
    "model.fit(X_train, y_train)\n",
    "\n",
    "# Make predictions\n",
    "y_pred = model.predict(X_test)\n",
    "\n",
    "# Evaluate the model\n",
    "accuracy = accuracy_score(y_test, y_pred)\n",
    "conf_matrix = confusion_matrix(y_test, y_pred)\n",
    "class_report = classification_report(y_test, y_pred)\n",
    "\n",
    "print(f\"Accuracy: {accuracy:.2f}\")\n",
    "print(\"Confusion Matrix:\")\n",
    "print(conf_matrix)\n",
    "print(\"Classification Report:\")\n",
    "print(class_report)\n"
   ]
  },
  {
   "cell_type": "markdown",
   "id": "8f098389-7bda-44b2-b0ca-5b04b71ac188",
   "metadata": {},
   "source": [
    "# Q2. What is the cost function used in logistic regression, and how is it optimized?\n"
   ]
  },
  {
   "cell_type": "markdown",
   "id": "31077274-e90d-4057-bf8d-5d1c06b7fc6c",
   "metadata": {},
   "source": [
    "Cost Function in Logistic Regression\n",
    "\n",
    "The cost function for logistic regression is known as the logistic loss function or binary cross-entropy loss. It quantifies the difference between the predicted probabilities and the actual binary labels."
   ]
  },
  {
   "cell_type": "markdown",
   "id": "367893af-bac5-4add-aca6-79e96fff4b42",
   "metadata": {},
   "source": [
    "Optimization of the Cost Function\n",
    "\n",
    "To find the optimal model parameters \n",
    "\n",
    "θ, the cost function is minimized. This is typically done using optimization algorithms. The most common method for this is Gradient Descent.\n",
    "\n",
    "Gradient Descent\n",
    "\n",
    "Gradient descent is an iterative optimization algorithm used to minimize the cost function. Here’s a high-level overview of how it works:\n",
    "\n",
    "Initialize Parameters: Start with initial values for the parameters \n",
    "\n",
    "θ (often zeros or small random values).\n",
    "\n",
    "Compute Gradients: Calculate the gradient of the cost function with respect to each parameter. This gradient indicates the direction and rate of change of the cost function"
   ]
  },
  {
   "cell_type": "code",
   "execution_count": 2,
   "id": "da37ebb9-f5f4-4f0c-a856-8e8e4c1d4591",
   "metadata": {},
   "outputs": [
    {
     "name": "stdout",
     "output_type": "stream",
     "text": [
      "Accuracy: 1.00\n",
      "Confusion Matrix:\n",
      "[[26  0]\n",
      " [ 0 19]]\n",
      "Classification Report:\n",
      "              precision    recall  f1-score   support\n",
      "\n",
      "           0       1.00      1.00      1.00        26\n",
      "           1       1.00      1.00      1.00        19\n",
      "\n",
      "    accuracy                           1.00        45\n",
      "   macro avg       1.00      1.00      1.00        45\n",
      "weighted avg       1.00      1.00      1.00        45\n",
      "\n",
      "Training Cost: 0.02\n"
     ]
    }
   ],
   "source": [
    "import numpy as np\n",
    "import pandas as pd\n",
    "from sklearn.datasets import load_iris\n",
    "from sklearn.model_selection import train_test_split\n",
    "from sklearn.linear_model import LogisticRegression\n",
    "from sklearn.metrics import accuracy_score, confusion_matrix, classification_report\n",
    "\n",
    "# Load the Iris dataset\n",
    "iris = load_iris()\n",
    "X = pd.DataFrame(iris.data, columns=iris.feature_names)\n",
    "y = pd.Series(iris.target)\n",
    "\n",
    "# Convert to a binary classification problem: Is the species Setosa (1) or not (0)\n",
    "y = (y == 0).astype(int)\n",
    "\n",
    "# Split the data into training and test sets\n",
    "X_train, X_test, y_train, y_test = train_test_split(X, y, test_size=0.3, random_state=42)\n",
    "\n",
    "# Create and fit the logistic regression model\n",
    "model = LogisticRegression()\n",
    "model.fit(X_train, y_train)\n",
    "\n",
    "# Make predictions\n",
    "y_pred = model.predict(X_test)\n",
    "\n",
    "# Evaluate the model\n",
    "accuracy = accuracy_score(y_test, y_pred)\n",
    "conf_matrix = confusion_matrix(y_test, y_pred)\n",
    "class_report = classification_report(y_test, y_pred)\n",
    "\n",
    "print(f\"Accuracy: {accuracy:.2f}\")\n",
    "print(\"Confusion Matrix:\")\n",
    "print(conf_matrix)\n",
    "print(\"Classification Report:\")\n",
    "print(class_report)\n",
    "\n",
    "# To illustrate the cost function and gradient descent, we use scikit-learn's implementation\n",
    "# Since scikit-learn doesn't provide direct access to the cost function, we can calculate it manually\n",
    "\n",
    "def logistic_cost_function(X, y, theta):\n",
    "    m = len(y)\n",
    "    h = 1 / (1 + np.exp(-np.dot(X, theta)))\n",
    "    epsilon = 1e-10  # To avoid log(0) issues\n",
    "    cost = (-1 / m) * (np.dot(y, np.log(h + epsilon)) + np.dot((1 - y), np.log(1 - h + epsilon)))\n",
    "    return cost\n",
    "\n",
    "# Add an intercept term to X\n",
    "X_train_with_intercept = np.hstack([np.ones((X_train.shape[0], 1)), X_train])\n",
    "X_test_with_intercept = np.hstack([np.ones((X_test.shape[0], 1)), X_test])\n",
    "\n",
    "# Get the fitted parameters\n",
    "theta = np.hstack([model.intercept_, model.coef_.flatten()])\n",
    "\n",
    "# Calculate the cost on the training set\n",
    "cost = logistic_cost_function(X_train_with_intercept, y_train, theta)\n",
    "print(f\"Training Cost: {cost:.2f}\")\n"
   ]
  },
  {
   "cell_type": "markdown",
   "id": "d2941dc2-d286-43b9-855b-c8a6917482d6",
   "metadata": {},
   "source": [
    "# Q3. Explain the concept of regularization in logistic regression and how it helps prevent overfitting.\n"
   ]
  },
  {
   "cell_type": "markdown",
   "id": "e0170ca1-e289-4400-9e12-33bfad3257b0",
   "metadata": {},
   "source": [
    "Regularization in logistic regression is a technique used to prevent overfitting by adding a penalty term to the cost function. Overfitting occurs when a model learns not only the underlying patterns but also the noise in the training data, leading to poor generalization on new, unseen data.\n",
    "\n",
    "Concept of Regularization\n",
    "\n",
    "\n",
    "In logistic regression, regularization modifies the cost function to include a penalty for large coefficients. This helps to control the complexity of the model, making it simple\n",
    "\n",
    "How Regularization Helps Prevent Overfitting\n",
    "\n",
    "Penalizes Large Coefficients:\n",
    "\n",
    "By adding a penalty term, regularization discourages the model from assigning too much importance to any single feature. This prevents the model from fitting noise in the training data.\n",
    "\n",
    "Promotes Simpler Models: \n",
    "\n",
    "Regularization tends to produce models with smaller coefficients. Simpler models are less likely to overfit the training data and more likely to generalize well to new data.\n",
    "\n",
    "Feature Selection (L1 Regularization):\n",
    "\n",
    "L1 regularization can drive some coefficients to zero, effectively removing less important features. This leads to a more interpretable model and can improve performance by focusing on the most relevant features.\n",
    "\n",
    "Coefficient Shrinkage (L2 Regularization):\n",
    "\n",
    "L2 regularization reduces the magnitude of all coefficients, which helps in handling multicollinearity (when features are highly correlated) and improves model stability."
   ]
  },
  {
   "cell_type": "markdown",
   "id": "0d8867b5-1637-4fd1-8d78-bb634c9ec3ca",
   "metadata": {},
   "source": [
    "# Q4. What is the ROC curve, and how is it used to evaluate the performance of the logistic regression model?\n"
   ]
  },
  {
   "cell_type": "markdown",
   "id": "af69784f-c95f-4801-b6f5-4a481ff593fb",
   "metadata": {},
   "source": [
    "The ROC curve (Receiver Operating Characteristic curve) is a graphical representation used to evaluate the performance of a binary classification model, such as logistic regression."
   ]
  },
  {
   "cell_type": "markdown",
   "id": "aa47bdcc-0317-467f-b421-93203d56859b",
   "metadata": {},
   "source": [
    "How the ROC Curve Works:\n",
    "    \n",
    "The ROC curve plots TPR (y-axis) against FPR (x-axis) at various threshold settings.\n",
    "Each point on the curve represents a different threshold used to classify observations as positive or negative.\n",
    "The curve typically starts at (0, 0) and ends at (1, 1).\n",
    "\n",
    "\n",
    "Interpreting the ROC Curve:\n",
    "    \n",
    "AUC (Area Under the Curve): The area under the ROC curve is a single scalar value summarizing the performance of the model. It ranges from 0 to 1.\n",
    "AUC = 0.5: The model performs no better than random chance.\n",
    "AUC = 1.0: The model has perfect classification.\n",
    "0.5 < AUC < 1.0: The closer the AUC is to 1, the better the model's performance.\n",
    "\n",
    "\n",
    "Using ROC Curve to Evaluate Logistic Regression:\n",
    "    \n",
    "By plotting the ROC curve, you can visualize how well your logistic regression model distinguishes between the two classes (e.g., churn vs. no churn).\n",
    "The ROC curve helps in choosing an optimal threshold for classification, depending on the desired trade-off between TPR and FPR.\n",
    "The AUC score can be used to compare different models or model configurations, with a higher AUC indicating better performance."
   ]
  },
  {
   "cell_type": "code",
   "execution_count": 4,
   "id": "c258e42f-8ca5-47be-8720-b9e9d5bd9c82",
   "metadata": {},
   "outputs": [
    {
     "data": {
      "image/png": "[encoded data removed]",
      "text/plain": [
       "<Figure size 800x600 with 1 Axes>"
      ]
     },
     "metadata": {},
     "output_type": "display_data"
    }
   ],
   "source": [
    "# Import necessary libraries\n",
    "import numpy as np\n",
    "import matplotlib.pyplot as plt\n",
    "from sklearn.datasets import load_iris\n",
    "from sklearn.model_selection import train_test_split\n",
    "from sklearn.linear_model import LogisticRegression\n",
    "from sklearn.metrics import roc_curve, roc_auc_score\n",
    "from sklearn.preprocessing import label_binarize\n",
    "\n",
    "# Load a dataset (e.g., Iris dataset)\n",
    "data = load_iris()\n",
    "X = data.data  # Features\n",
    "y = data.target  # Target variable\n",
    "\n",
    "# Since Iris dataset has 3 classes, we'll binarize it for binary classification (e.g., class 0 vs others)\n",
    "y = label_binarize(y, classes=[0, 1, 2])\n",
    "y = y[:, 0]  # We'll use class 0 as the positive class\n",
    "\n",
    "# Split the dataset into training and testing sets\n",
    "X_train, X_test, y_train, y_test = train_test_split(X, y, test_size=0.3, random_state=42)\n",
    "\n",
    "# Initialize and fit the logistic regression model\n",
    "model = LogisticRegression()\n",
    "model.fit(X_train, y_train)\n",
    "\n",
    "# Predict probabilities for the test set\n",
    "y_probs = model.predict_proba(X_test)[:, 1]  # Probability estimates for the positive class\n",
    "\n",
    "# Compute ROC curve and ROC area\n",
    "fpr, tpr, thresholds = roc_curve(y_test, y_probs)\n",
    "roc_auc = roc_auc_score(y_test, y_probs)\n",
    "\n",
    "# Plot ROC curve\n",
    "plt.figure(figsize=(8, 6))\n",
    "plt.plot(fpr, tpr, color='blue', label=f'ROC curve (area = {roc_auc:.2f})')\n",
    "plt.plot([0, 1], [0, 1], color='red', linestyle='--')  # Dashed line representing random guessing\n",
    "plt.xlim([0.0, 1.0])\n",
    "plt.ylim([0.0, 1.0])\n",
    "plt.xlabel('False Positive Rate')\n",
    "plt.ylabel('True Positive Rate')\n",
    "plt.title('Receiver Operating Characteristic (ROC) Curve')\n",
    "plt.legend(loc=\"lower right\")\n",
    "plt.show()\n"
   ]
  },
  {
   "cell_type": "markdown",
   "id": "3f633509-f594-4044-a99a-41e42a11bce1",
   "metadata": {},
   "source": [
    "# 5. What are some common techniques for feature selection in logistic regression? How do these techniques help improve the model's performance?\n"
   ]
  },
  {
   "cell_type": "markdown",
   "id": "d41242d0-c2b0-45a1-be5e-3f2b55ad9c57",
   "metadata": {},
   "source": [
    "Feature selection is an important step in the modeling process, especially in logistic regression, to enhance the model's performance by improving accuracy, reducing overfitting, and making the model more interpretable. Here are some common techniques for feature selection in logistic regression:\n",
    "\n",
    "1. Univariate Feature Selection\n",
    "\n",
    "Technique: Statistical tests like Chi-Square, ANOVA, or mutual information are used to select the most relevant features based on their individual relationship with the target variable.\n",
    "How It Helps: By selecting features with the highest scores, the model focuses on the most relevant features, which can improve performance and reduce noise.\n",
    "\n",
    "2. Recursive Feature Elimination (RFE)\n",
    "\n",
    "Technique: RFE recursively removes the least important features, as determined by the model's coefficients, until the desired number of features is reached.\n",
    "How It Helps: By iteratively eliminating the weakest features, RFE ensures that only the most important features are retained, potentially improving model accuracy and interpretability.\n",
    "\n",
    "3. Regularization (L1 and L2 Penalties)\n",
    "\n",
    "Technique: Regularization adds a penalty to the loss function to shrink the coefficients of less important features. L1 regularization (Lasso) can shrink some coefficients to zero, effectively performing feature selection, while L2 regularization (Ridge) shrinks coefficients but does not set them to zero.\n",
    "How It Helps: Regularization helps prevent overfitting by penalizing large coefficients and can reduce the complexity of the model by selecting only the most important features (especially with L1 regularization).\n",
    "\n",
    "4. Feature Importance from Tree-Based Models\n",
    "\n",
    "Technique: Train a tree-based model like Random Forest or Gradient Boosting to calculate feature importance scores, and then select the top features based on these scores for the logistic regression model.\n",
    "How It Helps: Tree-based models are good at capturing non-linear relationships and interactions, and the most important features identified can be useful for the logistic regression model, which is linear.\n",
    "\n",
    "5. Principal Component Analysis (PCA)\n",
    "\n",
    "Technique: PCA transforms the original features into a smaller set of uncorrelated components that capture the most variance in the data.\n",
    "How It Helps: By reducing dimensionality and removing multicollinearity, PCA can help improve model performance and reduce overfitting. However, it may make the model less interpretable.\n",
    "\n",
    "6. Correlation Matrix with Heatmap\n",
    "\n",
    "Technique: Calculate the correlation matrix of the features and use a heatmap to visually identify and remove highly correlated (redundant) features.\n",
    "How It Helps: Removing highly correlated features helps reduce multicollinearity, which can improve the stability and interpretability of the logistic regression model.\n",
    "\n",
    "7. Variance Thresholding\n",
    "\n",
    "Technique: Remove features with low variance across the dataset, as they likely contain little information.\n",
    "How It Helps: This helps to eliminate features that do not contribute much to the prediction, making the model more efficient and potentially improving generalization."
   ]
  },
  {
   "cell_type": "markdown",
   "id": "260ef533-902e-4cfd-9c74-62951beffa03",
   "metadata": {},
   "source": [
    "How These Techniques Improve Model Performance:\n",
    "    \n",
    "Reduce Overfitting: By eliminating irrelevant or redundant features, the model is less likely to overfit the training data.\n",
    "Improve Accuracy: Focusing on the most relevant features often leads to better generalization on unseen data.\n",
    "Enhance Interpretability: With fewer features, it’s easier to understand and explain the model.\n",
    "Increase Efficiency: Fewer features reduce the computational cost and speed up training and prediction."
   ]
  },
  {
   "cell_type": "markdown",
   "id": "d9aee025-ee99-4e78-bf95-71e62bb8bcd6",
   "metadata": {},
   "source": [
    "# Q6. How can you handle imbalanced datasets in logistic regression? What are some strategies for dealing with class imbalance?\n"
   ]
  },
  {
   "cell_type": "markdown",
   "id": "b8730647-3786-431f-99ed-2a4c69544f43",
   "metadata": {},
   "source": [
    "Resampling: Balances the dataset by either oversampling the minority or undersampling the majority class.\n",
    "\n",
    "Class Weighting: Adjusts the logistic regression model to give more importance to the minority class.\n",
    "\n",
    "Evaluation Metrics: Use metrics better suited to imbalanced datasets, like precision-recall curves, F1 scores, and ROC-AUC.\n",
    "\n",
    "Ensemble Methods: Can natively handle class imbalance or can be adjusted to do so.\n",
    "\n",
    "Data Augmentation and Threshold Moving: Enhance the representation of the minority class or adjust model sensitivity.\\\n"
   ]
  },
  {
   "cell_type": "code",
   "execution_count": 9,
   "id": "ab97cfd3-55c1-41c0-93e8-ae671011b592",
   "metadata": {},
   "outputs": [
    {
     "name": "stdout",
     "output_type": "stream",
     "text": [
      "Collecting imbalanced-learn\n",
      "  Downloading imbalanced_learn-0.12.3-py3-none-any.whl (258 kB)\n",
      "\u001b[2K     \u001b[90m━━━━━━━━━━━━━━━━━━━━━━━━━━━━━━━━━━━━━━━\u001b[0m \u001b[32m258.3/258.3 kB\u001b[0m \u001b[31m7.7 MB/s\u001b[0m eta \u001b[36m0:00:00\u001b[0m\n",
      "\u001b[?25hRequirement already satisfied: scipy>=1.5.0 in /opt/conda/lib/python3.10/site-packages (from imbalanced-learn) (1.9.3)\n",
      "Requirement already satisfied: threadpoolctl>=2.0.0 in /opt/conda/lib/python3.10/site-packages (from imbalanced-learn) (3.1.0)\n",
      "Requirement already satisfied: scikit-learn>=1.0.2 in /opt/conda/lib/python3.10/site-packages (from imbalanced-learn) (1.2.0)\n",
      "Requirement already satisfied: joblib>=1.1.1 in /opt/conda/lib/python3.10/site-packages (from imbalanced-learn) (1.2.0)\n",
      "Requirement already satisfied: numpy>=1.17.3 in /opt/conda/lib/python3.10/site-packages (from imbalanced-learn) (1.23.5)\n",
      "Installing collected packages: imbalanced-learn\n",
      "Successfully installed imbalanced-learn-0.12.3\n",
      "Note: you may need to restart the kernel to use updated packages.\n"
     ]
    }
   ],
   "source": [
    "pip install imbalanced-learn\n"
   ]
  },
  {
   "cell_type": "code",
   "execution_count": 10,
   "id": "2208fe75-e2fa-446b-9916-27e912cc048d",
   "metadata": {},
   "outputs": [
    {
     "name": "stdout",
     "output_type": "stream",
     "text": [
      "Original class distribution: [901  99]\n",
      "Class distribution after SMOTE: [632 632]\n",
      "Confusion Matrix:\n",
      " [[267   2]\n",
      " [  3  28]]\n",
      "\n",
      "Classification Report:\n",
      "               precision    recall  f1-score   support\n",
      "\n",
      "           0       0.99      0.99      0.99       269\n",
      "           1       0.93      0.90      0.92        31\n",
      "\n",
      "    accuracy                           0.98       300\n",
      "   macro avg       0.96      0.95      0.95       300\n",
      "weighted avg       0.98      0.98      0.98       300\n",
      "\n",
      "\n",
      "ROC-AUC Score: 0.98\n"
     ]
    },
    {
     "data": {
      "image/png": "[encoded data removed]",
      "text/plain": [
       "<Figure size 800x600 with 1 Axes>"
      ]
     },
     "metadata": {},
     "output_type": "display_data"
    },
    {
     "name": "stdout",
     "output_type": "stream",
     "text": [
      "F1 Score: 0.92\n"
     ]
    }
   ],
   "source": [
    "# Import necessary libraries\n",
    "import numpy as np\n",
    "import pandas as pd\n",
    "from sklearn.datasets import make_classification\n",
    "from sklearn.model_selection import train_test_split\n",
    "from sklearn.linear_model import LogisticRegression\n",
    "from sklearn.metrics import classification_report, confusion_matrix, roc_auc_score, precision_recall_curve, f1_score\n",
    "from imblearn.over_sampling import SMOTE\n",
    "import matplotlib.pyplot as plt\n",
    "\n",
    "# Step 1: Load a sample imbalanced dataset\n",
    "X, y = make_classification(n_samples=1000, n_features=10, n_informative=2, n_redundant=2, \n",
    "                           n_clusters_per_class=1, weights=[0.9], flip_y=0, random_state=42)\n",
    "\n",
    "# Print the original class distribution\n",
    "print(\"Original class distribution:\", np.bincount(y))\n",
    "\n",
    "# Step 2: Split the dataset into training and testing sets\n",
    "X_train, X_test, y_train, y_test = train_test_split(X, y, test_size=0.3, random_state=42)\n",
    "\n",
    "# Step 3: Apply SMOTE to oversample the minority class in the training set\n",
    "smote = SMOTE(random_state=42)\n",
    "X_train_resampled, y_train_resampled = smote.fit_resample(X_train, y_train)\n",
    "\n",
    "# Print the new class distribution after SMOTE\n",
    "print(\"Class distribution after SMOTE:\", np.bincount(y_train_resampled))\n",
    "\n",
    "# Step 4: Initialize and fit the logistic regression model with class weight adjustment\n",
    "model = LogisticRegression(class_weight='balanced', random_state=42)\n",
    "model.fit(X_train_resampled, y_train_resampled)\n",
    "\n",
    "# Step 5: Make predictions on the test set\n",
    "y_pred = model.predict(X_test)\n",
    "y_probs = model.predict_proba(X_test)[:, 1]\n",
    "\n",
    "# Step 6: Evaluate the model using appropriate metrics\n",
    "print(\"Confusion Matrix:\\n\", confusion_matrix(y_test, y_pred))\n",
    "print(\"\\nClassification Report:\\n\", classification_report(y_test, y_pred))\n",
    "\n",
    "# Calculate and print ROC-AUC score\n",
    "roc_auc = roc_auc_score(y_test, y_probs)\n",
    "print(f\"\\nROC-AUC Score: {roc_auc:.2f}\")\n",
    "\n",
    "# Calculate and plot the Precision-Recall curve\n",
    "precision, recall, thresholds = precision_recall_curve(y_test, y_probs)\n",
    "plt.figure(figsize=(8, 6))\n",
    "plt.plot(recall, precision, marker='.', label=f'Logistic Regression (AUC = {roc_auc:.2f})')\n",
    "plt.xlabel('Recall')\n",
    "plt.ylabel('Precision')\n",
    "plt.title('Precision-Recall Curve')\n",
    "plt.legend()\n",
    "plt.show()\n",
    "\n",
    "# Calculate F1 Score\n",
    "f1 = f1_score(y_test, y_pred)\n",
    "print(f\"F1 Score: {f1:.2f}\")\n"
   ]
  },
  {
   "cell_type": "markdown",
   "id": "ac076375-8c28-4ac2-b4d8-6bfb39731de9",
   "metadata": {},
   "source": [
    "# Q7. Can you discuss some common issues and challenges that may arise when implementing logistic regression, and how they can be addressed? For example, what can be done if there is multicollinearity\n",
    "# among the independent variables?"
   ]
  },
  {
   "cell_type": "markdown",
   "id": "057b4513-60e4-4ab8-a2bd-e4de8edd6beb",
   "metadata": {},
   "source": [
    "Multicollinearity\n",
    "\n",
    "Issue: High correlation between independent variables can make coefficient estimates unstable and inflated.\n",
    "Solutions:\n",
    "Remove Correlated Features: Identify and remove highly correlated variables.\n",
    "Regularization: Use Ridge (L2) regression to stabilize coefficients.\n",
    "Combine Features: Use PCA to combine correlated features.\n",
    "Class Imbalance\n",
    "\n",
    "Issue: Imbalanced class distribution can bias the model towards the majority class, affecting performance on the minority class.\n",
    "Solutions:\n",
    "Resampling: Use SMOTE to oversample the minority class or undersample the majority class.\n",
    "Adjust Class Weights: Modify the class weights in the model to give more importance to the minority class.\n",
    "Use Appropriate Metrics: Evaluate using metrics like Precision-Recall AUC, F1 Score, and ROC-AUC instead of accuracy.\n",
    "Feature Scaling\n",
    "\n",
    "Issue: Logistic regression is sensitive to the scale of features, leading to biased coefficient estimates and convergence issues.\n",
    "Solutions:\n",
    "Standardize Features: Use StandardScaler to normalize feature scales.\n",
    "Overfitting\n",
    "\n",
    "Issue: The model may learn the noise in the training data rather than the underlying pattern.\n",
    "Solutions:\n",
    "Regularization: Apply L1 (Lasso) or L2 (Ridge) regularization to prevent overfitting.\n",
    "Cross-Validation: Use cross-validation to evaluate the model’s performance and avoid overfitting.\n",
    "Model Assumptions\n",
    "\n",
    "Issue: Logistic regression assumes a linear relationship between predictors and the log-odds of the response.\n",
    "Solutions:\n",
    "Transform Features: Apply transformations or create interaction terms to capture non-linear relationships.\n",
    "Feature Engineering: Develop new features to better represent the relationships in the data.\n",
    "Addressing these challenges can enhance the effectiveness, accuracy, and robustness of your logistic regression model."
   ]
  },
  {
   "cell_type": "code",
   "execution_count": 11,
   "id": "9b715251-4a50-415a-8b4a-6418ceb7c266",
   "metadata": {},
   "outputs": [
    {
     "name": "stdout",
     "output_type": "stream",
     "text": [
      "Original class distribution: [901  99]\n",
      "Class distribution after SMOTE: [629 629]\n",
      "VIF Data:\n",
      "    feature       VIF\n",
      "0        0       inf\n",
      "1        1       inf\n",
      "2        2  1.019241\n",
      "3        3       inf\n",
      "4        4       inf\n",
      "5        5  1.037148\n",
      "6        6  1.022505\n",
      "7        7       inf\n",
      "8        8       inf\n",
      "9        9       inf\n"
     ]
    },
    {
     "name": "stderr",
     "output_type": "stream",
     "text": [
      "/opt/conda/lib/python3.10/site-packages/statsmodels/stats/outliers_influence.py:195: RuntimeWarning: divide by zero encountered in double_scalars\n",
      "  vif = 1. / (1. - r_squared_i)\n"
     ]
    },
    {
     "name": "stdout",
     "output_type": "stream",
     "text": [
      "Confusion Matrix:\n",
      " [[271   1]\n",
      " [  1  27]]\n",
      "\n",
      "Classification Report:\n",
      "               precision    recall  f1-score   support\n",
      "\n",
      "           0       1.00      1.00      1.00       272\n",
      "           1       0.96      0.96      0.96        28\n",
      "\n",
      "    accuracy                           0.99       300\n",
      "   macro avg       0.98      0.98      0.98       300\n",
      "weighted avg       0.99      0.99      0.99       300\n",
      "\n",
      "\n",
      "ROC-AUC Score: 1.00\n"
     ]
    },
    {
     "data": {
      "image/png": "[encoded data removed]",
      "text/plain": [
       "<Figure size 800x600 with 1 Axes>"
      ]
     },
     "metadata": {},
     "output_type": "display_data"
    },
    {
     "name": "stdout",
     "output_type": "stream",
     "text": [
      "F1 Score: 0.96\n",
      "\n",
      "Feature Importances:\n",
      " [ 0.21333333  0.01266667  0.00333333  0.00533333  0.02733333 -0.00133333\n",
      "  0.00266667  0.06733333  0.          0.18066667]\n"
     ]
    }
   ],
   "source": [
    "import numpy as np\n",
    "import pandas as pd\n",
    "from sklearn.datasets import make_classification\n",
    "from sklearn.model_selection import train_test_split\n",
    "from sklearn.linear_model import LogisticRegression, LogisticRegressionCV, Ridge\n",
    "from sklearn.preprocessing import StandardScaler, PolynomialFeatures\n",
    "from sklearn.metrics import classification_report, confusion_matrix, roc_auc_score, f1_score\n",
    "from sklearn.inspection import permutation_importance\n",
    "from statsmodels.stats.outliers_influence import variance_inflation_factor\n",
    "import matplotlib.pyplot as plt\n",
    "from imblearn.over_sampling import SMOTE\n",
    "\n",
    "# Step 1: Generate a sample imbalanced dataset\n",
    "X, y = make_classification(n_samples=1000, n_features=10, n_informative=5, n_redundant=2,\n",
    "                           n_clusters_per_class=1, weights=[0.9], flip_y=0, random_state=42)\n",
    "\n",
    "# Print the original class distribution\n",
    "print(\"Original class distribution:\", np.bincount(y))\n",
    "\n",
    "# Step 2: Split the dataset into training and testing sets\n",
    "X_train, X_test, y_train, y_test = train_test_split(X, y, test_size=0.3, random_state=42)\n",
    "\n",
    "# Step 3: Apply SMOTE to oversample the minority class in the training set\n",
    "smote = SMOTE(random_state=42)\n",
    "X_train_resampled, y_train_resampled = smote.fit_resample(X_train, y_train)\n",
    "\n",
    "# Print the new class distribution after SMOTE\n",
    "print(\"Class distribution after SMOTE:\", np.bincount(y_train_resampled))\n",
    "\n",
    "# Step 4: Feature Scaling\n",
    "scaler = StandardScaler()\n",
    "X_train_scaled = scaler.fit_transform(X_train_resampled)\n",
    "X_test_scaled = scaler.transform(X_test)\n",
    "\n",
    "# Step 5: Handle Multicollinearity\n",
    "# Compute VIF (Variance Inflation Factor)\n",
    "def compute_vif(X):\n",
    "    vif_data = pd.DataFrame()\n",
    "    vif_data[\"feature\"] = range(X.shape[1])\n",
    "    vif_data[\"VIF\"] = [variance_inflation_factor(X, i) for i in range(X.shape[1])]\n",
    "    return vif_data\n",
    "\n",
    "vif_data = compute_vif(X_train_scaled)\n",
    "print(\"VIF Data:\\n\", vif_data)\n",
    "\n",
    "# If VIF is high, we could consider removing variables or applying Ridge regression\n",
    "# Here, we use Ridge regression as an example\n",
    "ridge_model = Ridge(alpha=1.0)\n",
    "ridge_model.fit(X_train_scaled, y_train_resampled)\n",
    "\n",
    "# Step 6: Initialize and fit the Logistic Regression model with cross-validation\n",
    "logistic_model = LogisticRegressionCV(cv=5, penalty='l2', max_iter=1000, class_weight='balanced')\n",
    "logistic_model.fit(X_train_scaled, y_train_resampled)\n",
    "\n",
    "# Step 7: Make predictions on the test set\n",
    "y_pred = logistic_model.predict(X_test_scaled)\n",
    "y_probs = logistic_model.predict_proba(X_test_scaled)[:, 1]\n",
    "\n",
    "# Step 8: Evaluate the model using appropriate metrics\n",
    "print(\"Confusion Matrix:\\n\", confusion_matrix(y_test, y_pred))\n",
    "print(\"\\nClassification Report:\\n\", classification_report(y_test, y_pred))\n",
    "\n",
    "# Calculate and print ROC-AUC score\n",
    "roc_auc = roc_auc_score(y_test, y_probs)\n",
    "print(f\"\\nROC-AUC Score: {roc_auc:.2f}\")\n",
    "\n",
    "# Calculate and plot the Precision-Recall curve\n",
    "from sklearn.metrics import precision_recall_curve\n",
    "\n",
    "precision, recall, thresholds = precision_recall_curve(y_test, y_probs)\n",
    "plt.figure(figsize=(8, 6))\n",
    "plt.plot(recall, precision, marker='.', label=f'Logistic Regression (AUC = {roc_auc:.2f})')\n",
    "plt.xlabel('Recall')\n",
    "plt.ylabel('Precision')\n",
    "plt.title('Precision-Recall Curve')\n",
    "plt.legend()\n",
    "plt.show()\n",
    "\n",
    "# Calculate and print F1 Score\n",
    "f1 = f1_score(y_test, y_pred)\n",
    "print(f\"F1 Score: {f1:.2f}\")\n",
    "\n",
    "# Feature Importance using permutation importance\n",
    "results = permutation_importance(logistic_model, X_test_scaled, y_test, scoring='accuracy')\n",
    "importance = results.importances_mean\n",
    "print(\"\\nFeature Importances:\\n\", importance)\n"
   ]
  },
  {
   "cell_type": "code",
   "execution_count": null,
   "id": "fcb1412b-c028-4099-b325-fb151e75eccd",
   "metadata": {},
   "outputs": [],
   "source": []
  }
 ],
 "metadata": {
  "kernelspec": {
   "display_name": "Python 3 (ipykernel)",
   "language": "python",
   "name": "python3"
  },
  "language_info": {
   "codemirror_mode": {
    "name": "ipython",
    "version": 3
   },
   "file_extension": ".py",
   "mimetype": "text/x-python",
   "name": "python",
   "nbconvert_exporter": "python",
   "pygments_lexer": "ipython3",
   "version": "3.10.8"
  }
 },
 "nbformat": 4,
 "nbformat_minor": 5
}
