{
 "cells": [
  {
   "cell_type": "markdown",
   "id": "9e6c7b01-5e5d-4b87-b0c8-0282cdbd8b8a",
   "metadata": {},
   "source": [
    "Q1. What is Bayes' theorem?\n",
    "\n",
    "Q2. What is the formula for Bayes' theorem?\n",
    "\n",
    "Q3. How is Bayes' theorem used in practice?\n",
    "\n",
    "Q4. What is the relationship between Bayes' theorem and conditional probability?\n",
    "\n",
    "Q5. How do you choose which type of Naive Bayes classifier to use for any given problem?\n",
    "\n"
   ]
  },
  {
   "cell_type": "markdown",
   "id": "816e747c-73fc-4c9a-b457-3821cf4d566d",
   "metadata": {},
   "source": [
    "Q1. What is Bayes' theorem?\n",
    "\n",
    "\n",
    "Bayes' theorem is a fundamental theorem in probability theory that describes how to update the probability of a hypothesis based on new evidence. It provides a mathematical framework for understanding how to revise beliefs when presented with new data, making it essential for decision-making and inferential statistics."
   ]
  },
  {
   "cell_type": "markdown",
   "id": "252089d2-6d2b-4176-8a80-956952d12a08",
   "metadata": {},
   "source": [
    " Q2. What is the formula for Bayes' theorem?\n",
    " \n",
    " \n",
    " P(A/B) = (p(B/A)*P(A))/(P(B)"
   ]
  },
  {
   "cell_type": "markdown",
   "id": "8dda0f20-ceed-460a-9ca7-5660bda18d71",
   "metadata": {},
   "source": [
    "Q3. How is Bayes' theorem used in practice?\n",
    "\n",
    "\n",
    "Bayes' theorem is used in a variety of applications, including:\n",
    "\n",
    "Medical Diagnosis: To update the probability of a disease given test results.\n",
    "Spam Filtering: To classify emails as spam or not based on the frequency of certain words.\n",
    "Machine Learning: Particularly in Bayesian inference and probabilistic models.\n",
    "A/B Testing: To determine the likelihood that a change in a website or product has a positive effect.\n",
    "Risk Assessment: To assess the probability of an event given previous occurrences.\n",
    "\n",
    "\n",
    "\n",
    "Q4. What is the relationship between Bayes' theorem and conditional probability?\n",
    "\n",
    "\n",
    "Bayes' theorem is fundamentally based on conditional probability. It relates the conditional probability of an event given another event to the conditional probability of the reverse event. Specifically, it allows us to update the probability of a hypothesis (event A) given the occurrence of evidence (event B).\n",
    "\n",
    "\n",
    "Q5. How do you choose which type of Naive Bayes classifier to use for any given problem?\n",
    "\n",
    "\n",
    "Choosing the appropriate type of Naive Bayes classifier depends on the nature of the data:\n",
    "\n",
    "Gaussian Naive Bayes: Used when the features are continuous and are assumed to follow a normal distribution. It's commonly used in scenarios where the data is approximately normally distributed, like in text classification with TF-IDF features.\n",
    "\n",
    "Multinomial Naive Bayes: Used when the features are discrete and represent counts or frequencies, such as word counts in text classification problems.\n",
    "\n",
    "Bernoulli Naive Bayes: Used when the features are binary or boolean. It's particularly suited for binary/boolean feature sets, where each feature represents whether a certain attribute is present or absent."
   ]
  },
  {
   "cell_type": "markdown",
   "id": "dd67cdb9-2387-437b-ab59-478a846729cf",
   "metadata": {},
   "source": [
    "Q6. Assignment:\n",
    "You have a dataset with two features, X1 and X2, and two possible classes, A and B. You want to use Naive\n",
    "Bayes to classify a new instance with features X1 = 3 and X2 = 4. The following table shows the frequency of\n",
    "each feature value for each class:\n",
    "\n",
    "Class X1=1 X1=2 X1=3 X2=1 X2=2 X2=3 X2=4\n",
    "\n",
    "A 3 3 4 4 3 3 3\n",
    "\n",
    "B 2 2 1 2 2 2 3\n",
    "\n",
    "Assuming equal prior probabilities for each class, which class would Naive Bayes predict the new instance\n",
    "to belong to?"
   ]
  },
  {
   "cell_type": "code",
   "execution_count": 1,
   "id": "c31c30e8-99e4-4474-a486-5773ede99f2b",
   "metadata": {},
   "outputs": [
    {
     "name": "stdout",
     "output_type": "stream",
     "text": [
      "P(A | X1 = 3, X2 = 4) = 0.046153846153846156\n",
      "P(B | X1 = 3, X2 = 4) = 0.03333333333333333\n",
      "The new instance is predicted to belong to Class A\n"
     ]
    }
   ],
   "source": [
    "# Given likelihoods and priors\n",
    "P_A = 0.5\n",
    "P_B = 0.5\n",
    "\n",
    "P_X1_3_given_A = 4 / 10\n",
    "P_X2_4_given_A = 3 / 13\n",
    "\n",
    "P_X1_3_given_B = 1 / 5\n",
    "P_X2_4_given_B = 3 / 9\n",
    "\n",
    "# Posterior probabilities (ignoring the denominator which is same for both classes)\n",
    "P_A_given_X1_3_X2_4 = P_X1_3_given_A * P_X2_4_given_A * P_A\n",
    "P_B_given_X1_3_X2_4 = P_X1_3_given_B * P_X2_4_given_B * P_B\n",
    "\n",
    "# Print the results\n",
    "print(f\"P(A | X1 = 3, X2 = 4) = {P_A_given_X1_3_X2_4}\")\n",
    "print(f\"P(B | X1 = 3, X2 = 4) = {P_B_given_X1_3_X2_4}\")\n",
    "\n",
    "# Determine which class the new instance belongs to\n",
    "predicted_class = 'A' if P_A_given_X1_3_X2_4 > P_B_given_X1_3_X2_4 else 'B'\n",
    "print(f\"The new instance is predicted to belong to Class {predicted_class}\")\n"
   ]
  },
  {
   "cell_type": "code",
   "execution_count": null,
   "id": "ca309ed1-115b-406b-a1b2-3df5a22c2b83",
   "metadata": {},
   "outputs": [],
   "source": []
  }
 ],
 "metadata": {
  "kernelspec": {
   "display_name": "Python 3 (ipykernel)",
   "language": "python",
   "name": "python3"
  },
  "language_info": {
   "codemirror_mode": {
    "name": "ipython",
    "version": 3
   },
   "file_extension": ".py",
   "mimetype": "text/x-python",
   "name": "python",
   "nbconvert_exporter": "python",
   "pygments_lexer": "ipython3",
   "version": "3.10.8"
  }
 },
 "nbformat": 4,
 "nbformat_minor": 5
}
