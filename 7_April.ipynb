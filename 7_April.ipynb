{
 "cells": [
  {
   "cell_type": "markdown",
   "id": "313cf0bb-ad5a-45fe-87c1-18e9ec215a98",
   "metadata": {},
   "source": [
    "Q1. What is the relationship between polynomial functions and kernel functions in machine learning algorithms?\n",
    "\n",
    "Q2. How can we implement an SVM with a polynomial kernel in Python using Scikit-learn?\n",
    "\n",
    "Q3. How does increasing the value of epsilon affect the number of support vectors in SVR?\n",
    "\n",
    "Q4. How does the choice of kernel function, C parameter, epsilon parameter, and gamma parameter affect the performance of Support Vector Regression (SVR)? Can you explain how each parameter works and provide examples of when you might want to increase or decrease its value?   \n",
    "\n",
    "Q5. Assignment:\n",
    "\n",
    "Import the necessary libraries and load the dataset\n",
    "\n",
    "Split the dataset into training and testing sets\n",
    "\n",
    "Preprocess the data using any technique of your choice (e.g., scaling, normalization)\n",
    "\n",
    "Create an instance of the SVC classifier and train it on the training data\n",
    "\n",
    "Use the trained classifier to predict the labels of the testing data\n",
    "\n",
    "Evaluate the performance of the classifier using any metric of your choice (e.g., accuracy, precision, recall, F1-score)\n",
    "\n",
    "Tune the hyperparameters of the SVC classifier using GridSearchCV or RandomizedSearchCV to improve its performance\n",
    "\n",
    "Train the tuned classifier on the entire dataset\n"
   ]
  },
  {
   "cell_type": "markdown",
   "id": "24b5568d-56f1-410d-a47a-b5c3fe39067d",
   "metadata": {},
   "source": [
    "# Q1. What is the relationship between polynomial functions and kernel functions in machine learning algorithms?"
   ]
  },
  {
   "cell_type": "markdown",
   "id": "01fef392-0bc8-4702-ae2d-c3e94ec552e0",
   "metadata": {},
   "source": [
    "The relationship between polynomial functions and kernel functions is that the polynomial kernel allows SVMs to create decision boundaries that are polynomial in nature, thus enabling the model to capture more complex patterns in the data."
   ]
  },
  {
   "cell_type": "markdown",
   "id": "1087394b-40d2-4b84-8873-7cdb454cfd0f",
   "metadata": {},
   "source": [
    "# Q2. How can we implement an SVM with a polynomial kernel in Python using Scikit-learn?"
   ]
  },
  {
   "cell_type": "code",
   "execution_count": null,
   "id": "d743743f-33d8-4f31-ae88-512263103f3e",
   "metadata": {},
   "outputs": [
    {
     "name": "stdout",
     "output_type": "stream",
     "text": [
      "Confusion Matrix:\n",
      " [[19  0  0]\n",
      " [ 0 13  0]\n",
      " [ 0  0 13]]\n",
      "\n",
      "Classification Report:\n",
      "               precision    recall  f1-score   support\n",
      "\n",
      "           0       1.00      1.00      1.00        19\n",
      "           1       1.00      1.00      1.00        13\n",
      "           2       1.00      1.00      1.00        13\n",
      "\n",
      "    accuracy                           1.00        45\n",
      "   macro avg       1.00      1.00      1.00        45\n",
      "weighted avg       1.00      1.00      1.00        45\n",
      "\n"
     ]
    }
   ],
   "source": [
    "import numpy as np\n",
    "from sklearn import datasets\n",
    "from sklearn.model_selection import train_test_split\n",
    "from sklearn.preprocessing import StandardScaler\n",
    "from sklearn.svm import SVC\n",
    "from sklearn.metrics import classification_report, confusion_matrix\n",
    "\n",
    "# Load the Iris dataset\n",
    "iris = datasets.load_iris()\n",
    "X = iris.data\n",
    "y = iris.target\n",
    "\n",
    "# Standardize the features\n",
    "scaler = StandardScaler()\n",
    "X = scaler.fit_transform(X)\n",
    "\n",
    "# Split the data into training and test sets\n",
    "X_train, X_test, y_train, y_test = train_test_split(X, y, test_size=0.3, random_state=42)\n",
    "\n",
    "# Create and train the SVM model with a polynomial kernel\n",
    "svm_poly = SVC(kernel='poly', degree=3, C=1.0, coef0=1)\n",
    "svm_poly.fit(X_train, y_train)\n",
    "\n",
    "# Predict on the test set\n",
    "y_pred = svm_poly.predict(X_test)\n",
    "\n",
    "# Evaluate the model\n",
    "print(\"Confusion Matrix:\\n\", confusion_matrix(y_test, y_pred))\n",
    "print(\"\\nClassification Report:\\n\", classification_report(y_test, y_pred))\n"
   ]
  },
  {
   "cell_type": "markdown",
   "id": "6df91859-ac17-4603-b8b5-ab6e1f6fb8c8",
   "metadata": {},
   "source": [
    "# Q3. How does increasing the value of epsilon affect the number of support vectors in SVR?"
   ]
  },
  {
   "cell_type": "markdown",
   "id": "682b4682-94eb-4313-b755-d918e9a64752",
   "metadata": {},
   "source": [
    "In Support Vector Regression (SVR), the ϵ parameter defines a margin of tolerance within which no penalty is given to errors. It essentially controls a \"tube\" around the regression line, within which predictions are considered acceptable.\n",
    "\n",
    "Effect of Increasing ϵ:\n",
    "\n",
    "As you increase the value of ϵ, the margin of tolerance around the predicted regression line increases, allowing more data points to fall within this margin without being considered support vectors. This reduces the number of support vectors, as fewer points will violate the ϵ-tube."
   ]
  },
  {
   "cell_type": "markdown",
   "id": "2977d37c-6749-41ee-a5d8-0adffdc825fd",
   "metadata": {},
   "source": [
    "# Q4. How does the choice of kernel function, C parameter, epsilon parameter, and gamma parameter affect the performance of Support Vector Regression (SVR)? Can you explain how each parameter works and provide examples of when you might want to increase or decrease its value?  "
   ]
  },
  {
   "cell_type": "markdown",
   "id": "73ffb810-983d-4264-8815-5b1adee81236",
   "metadata": {},
   "source": [
    "Kernel: Choose based on the nature of your data.\n",
    "\n",
    "C: Balance between fitting the training data and generalizing to new data.\n",
    "\n",
    "Epsilon: Controls the tolerance of the regression model to errors.\n",
    "\n",
    "Gamma: Influences the smoothness of the decision boundary.\n",
    "\n",
    "Each parameter needs to be tuned based on the specific problem, often using cross-validation to find the best combination."
   ]
  },
  {
   "cell_type": "code",
   "execution_count": null,
   "id": "6d5f9f83-a576-45ff-abcc-5abea8604d50",
   "metadata": {},
   "outputs": [
    {
     "name": "stdout",
     "output_type": "stream",
     "text": [
      "Accuracy: 0.9766081871345029\n",
      "Classification Report:\n",
      "               precision    recall  f1-score   support\n",
      "\n",
      "           0       0.97      0.97      0.97        63\n",
      "           1       0.98      0.98      0.98       108\n",
      "\n",
      "    accuracy                           0.98       171\n",
      "   macro avg       0.97      0.97      0.97       171\n",
      "weighted avg       0.98      0.98      0.98       171\n",
      "\n"
     ]
    }
   ],
   "source": [
    "import numpy as np\n",
    "import pandas as pd\n",
    "from sklearn.datasets import load_breast_cancer\n",
    "from sklearn.model_selection import train_test_split, GridSearchCV\n",
    "from sklearn.preprocessing import StandardScaler\n",
    "from sklearn.svm import SVC\n",
    "from sklearn.metrics import accuracy_score, classification_report\n",
    "\n",
    "# Step 1: Load the dataset (Breast Cancer dataset)\n",
    "data = load_breast_cancer()\n",
    "X = data.data\n",
    "y = data.target\n",
    "\n",
    "# Step 2: Split the dataset into training and testing sets\n",
    "X_train, X_test, y_train, y_test = train_test_split(X, y, test_size=0.3, random_state=42)\n",
    "\n",
    "# Step 3: Preprocess the data (Scaling)\n",
    "scaler = StandardScaler()\n",
    "X_train = scaler.fit_transform(X_train)\n",
    "X_test = scaler.transform(X_test)\n",
    "\n",
    "# Step 4: Create an instance of the SVC classifier and train it on the training data\n",
    "svc = SVC(kernel='rbf', random_state=42)\n",
    "svc.fit(X_train, y_train)\n",
    "\n",
    "# Step 5: Use the trained classifier to predict the labels of the testing data\n",
    "y_pred = svc.predict(X_test)\n",
    "\n",
    "# Step 6: Evaluate the performance of the classifier\n",
    "accuracy = accuracy_score(y_test, y_pred)\n",
    "report = classification_report(y_test, y_pred)\n",
    "\n",
    "print(f\"Accuracy: {accuracy}\")\n",
    "print(\"Classification Report:\\n\", report)\n",
    "\n",
    "# Step 7: Tune the hyperparameters of the SVC classifier using GridSearchCV\n",
    "param_grid = {\n",
    "    'C': [0.1, 1, 10, 100],\n",
    "    'gamma': [0.01, 0.1, 1, 10],\n",
    "    'kernel': ['linear', 'rbf', 'poly']\n",
    "}\n",
    "\n",
    "grid_search = GridSearchCV(SVC(), param_grid, cv=5, scoring='accuracy', n_jobs=-1)\n",
    "grid_search.fit(X_train, y_train)\n",
    "\n",
    "# Get the best parameters\n",
    "best_params = grid_search.best_params_\n",
    "print(\"Best Parameters:\", best_params)\n",
    "\n",
    "# Step 8: Train the tuned classifier on the entire dataset\n",
    "svc_tuned = SVC(**best_params)\n",
    "svc_tuned.fit(scaler.fit_transform(X), y)\n",
    "\n",
    "# Predict and evaluate the tuned model\n",
    "y_pred_tuned = svc_tuned.predict(scaler.transform(X))\n",
    "tuned_accuracy = accuracy_score(y, y_pred_tuned)\n",
    "tuned_report = classification_report(y, y_pred_tuned)\n",
    "\n",
    "print(f\"Tuned Accuracy: {tuned_accuracy}\")\n",
    "print(\"Tuned Classification Report:\\n\", tuned_report)\n"
   ]
  },
  {
   "cell_type": "code",
   "execution_count": null,
   "id": "f532f2f8-109b-405c-89bc-e64bc6e290d3",
   "metadata": {},
   "outputs": [],
   "source": []
  }
 ],
 "metadata": {
  "kernelspec": {
   "display_name": "Python 3 (ipykernel)",
   "language": "python",
   "name": "python3"
  },
  "language_info": {
   "codemirror_mode": {
    "name": "ipython",
    "version": 3
   },
   "file_extension": ".py",
   "mimetype": "text/x-python",
   "name": "python",
   "nbconvert_exporter": "python",
   "pygments_lexer": "ipython3",
   "version": "3.10.8"
  }
 },
 "nbformat": 4,
 "nbformat_minor": 5
}
