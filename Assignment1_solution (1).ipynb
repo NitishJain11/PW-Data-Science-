{
 "cells": [
  {
   "cell_type": "code",
   "execution_count": 1,
   "id": "f723546e-6b43-46b4-9f8e-ee2bcf126d7e",
   "metadata": {},
   "outputs": [
    {
     "name": "stdout",
     "output_type": "stream",
     "text": [
      "1\n",
      "2\n",
      "3\n",
      "4\n",
      "5\n",
      "6\n",
      "7\n",
      "8\n",
      "9\n",
      "10\n"
     ]
    }
   ],
   "source": [
    "# Q1. Explain with an example each when to use a for loop and a while loop.\n",
    "# FOR LOOP:\n",
    "# -> if we know starting and ending point , we always prefer for loop\n",
    "# -> example : print first 10 natural number\n",
    "for i in range(1,11):\n",
    "    print(i)"
   ]
  },
  {
   "cell_type": "code",
   "execution_count": 2,
   "id": "2621b770-0cf2-4543-bb58-804155feccf9",
   "metadata": {},
   "outputs": [
    {
     "name": "stdout",
     "output_type": "stream",
     "text": [
      "1\n",
      "3\n",
      "4\n",
      "4\n",
      "2\n"
     ]
    }
   ],
   "source": [
    "# Q1. Explain with an example each when to use a for loop and a while loop.\n",
    "# FOR LOOP:\n",
    "# -> if we don't know the the ending point , we prefer while loop \n",
    "# ->example : print  the element of the list unit elemnt is not equal to 5:\n",
    "key = 0\n",
    "l1= [1,3,4,4,2,5,2,1,1]\n",
    "while(l1[key]!=5 ):\n",
    "    print(l1[key])\n",
    "    key+=1"
   ]
  },
  {
   "cell_type": "code",
   "execution_count": 3,
   "id": "d9070fbf-211c-47b1-b866-5729cb3d751a",
   "metadata": {},
   "outputs": [
    {
     "name": "stdout",
     "output_type": "stream",
     "text": [
      "The sum and product of the first natural is  55 and 3628800\n"
     ]
    }
   ],
   "source": [
    "# #Q2. Write a python program to print the sum and product of the first 10 natural numbers using for\n",
    "# and while loop.\n",
    "sum =0\n",
    "product=1\n",
    "for i in range(1,11):\n",
    "    sum +=i\n",
    "    product *=i\n",
    "print(\"The sum and product of the first natural is \", sum ,\"and\", product) \n"
   ]
  },
  {
   "cell_type": "code",
   "execution_count": 6,
   "id": "ef64fb25-4a67-44a9-9afa-5c29691c2d33",
   "metadata": {},
   "outputs": [
    {
     "name": "stdout",
     "output_type": "stream",
     "text": [
      "The sum and product of the first natural is  55 and 3628800\n"
     ]
    }
   ],
   "source": [
    "# #Q2. Write a python program to print the sum and product of the first 10 natural numbers using for\n",
    "# and while loop.\n",
    "# # methode 2 while loop/\n",
    "sum2=0\n",
    "product2=1\n",
    "i =1\n",
    "while(i<=10) :\n",
    "    sum2 +=i\n",
    "    product2*=i\n",
    "    i+=1\n",
    "print(\"The sum and product of the first natural is \", sum2 ,\"and\", product2) "
   ]
  },
  {
   "cell_type": "code",
   "execution_count": 8,
   "id": "7bca8929-4543-439a-8fce-78f91849b3b0",
   "metadata": {},
   "outputs": [
    {
     "name": "stdin",
     "output_type": "stream",
     "text": [
      "the unit of electricity consumed 310\n"
     ]
    },
    {
     "name": "stdout",
     "output_type": "stream",
     "text": [
      "the total electricity bill  2250.0\n"
     ]
    }
   ],
   "source": [
    "# Q3. Create a python program to compute the electricity bill for a household.\n",
    "# The per-unit charges in rupees are as follows: For the first 100 units, the user will be charged Rs. 4.5 per\n",
    "# unit, for the next 100 units, the user will be charged Rs. 6 per unit, and for the next 100 units, the user will\n",
    "# be charged Rs. 10 per unit, After 300 units and above the user will be charged Rs. 20 per unit.\n",
    "\n",
    "\n",
    "# You are required to take the units of electricity consumed in a month from the user as input.\n",
    "\n",
    "\n",
    "# Your program must pass this test case: when the unit of electricity consumed by the user in a month is\n",
    "# 310, the total electricity bill should be 2250.\n",
    "unit=int(input('the unit of electricity consumed'))\n",
    "i =1\n",
    "while (i<=4):\n",
    "\n",
    "    if i==1:\n",
    "        if unit<=100:\n",
    "            bill=unit*4.5\n",
    "            brake\n",
    "        else:\n",
    "            bill=100*4.5\n",
    "            unit-=100\n",
    "           \n",
    "    if i==2:\n",
    "        if unit<=100:\n",
    "            bill+=unit*6\n",
    "            brake\n",
    "        else:\n",
    "            bill += 100*6\n",
    "            unit-=100\n",
    "         \n",
    "    if i==3:\n",
    "        if unit<=100:\n",
    "            bill+=unit*10\n",
    "            brake\n",
    "        else:\n",
    "            bill += 100*10\n",
    "            unit-=100\n",
    "            if unit>0 :\n",
    "                bill+= unit*20\n",
    "    i+=1\n",
    "print('the total electricity bill ',bill)"
   ]
  },
  {
   "cell_type": "code",
   "execution_count": 10,
   "id": "66443b11-cb62-4ec8-804b-d185a7218759",
   "metadata": {},
   "outputs": [
    {
     "name": "stdout",
     "output_type": "stream",
     "text": [
      "[8, 64, 125, 216, 512, 1000, 1728, 2744, 3375, 4096, 5832, 8000, 10648, 13824, 15625, 17576, 21952, 27000, 32768, 39304, 42875, 46656, 54872, 64000, 74088, 85184, 91125, 97336, 110592, 125000, 140608, 157464, 166375, 175616, 195112, 216000, 238328, 262144, 274625, 287496, 314432, 343000, 373248, 405224, 421875, 438976, 474552, 512000, 551368, 592704, 614125, 636056, 681472, 729000, 778688, 830584, 857375, 884736, 941192, 1000000]\n"
     ]
    }
   ],
   "source": [
    "# Q4. Create a list of numbers from 1 to 100. Use for loop and while loop to calculate the cube of each\n",
    "# number and if the cube of that number is divisible by 4 or 5 then append that number in a list and print\n",
    "# that list.\n",
    "list1 = []\n",
    "ans=[]\n",
    "for i in range(1,101):\n",
    "    list1.append(pow(i,3))\n",
    "# print(list1)\n",
    "for i in list1:\n",
    "    if i%4==0 or i%5==0:\n",
    "        ans.append(i)\n",
    "print(ans)\n",
    "\n",
    "\n"
   ]
  },
  {
   "cell_type": "code",
   "execution_count": 13,
   "id": "0716d461-5e4e-46f4-a6c0-5ea03f2ea92a",
   "metadata": {},
   "outputs": [
    {
     "name": "stdout",
     "output_type": "stream",
     "text": [
      "[8, 64, 125, 216, 512, 1000, 1728, 2744, 3375, 4096, 5832, 8000, 10648, 13824, 15625, 17576, 21952, 27000, 32768, 39304, 42875, 46656, 54872, 64000, 74088, 85184, 91125, 97336, 110592, 125000, 140608, 157464, 166375, 175616, 195112, 216000, 238328, 262144, 274625, 287496, 314432, 343000, 373248, 405224, 421875, 438976, 474552, 512000, 551368, 592704, 614125, 636056, 681472, 729000, 778688, 830584, 857375, 884736, 941192, 1000000]\n"
     ]
    }
   ],
   "source": [
    "# Q4. Create a list of numbers from 1 to 100. Use for loop and while loop to calculate the cube of each\n",
    "# number and if the cube of that number is divisible by 4 or 5 then append that number in a list and print\n",
    "# that list.\n",
    "# while loop methode\n",
    "ans2=[]\n",
    "list2=[]\n",
    "i =1\n",
    "while(i<101):\n",
    "      list2.append(pow(i,3))\n",
    "      if list2[i-1]%4 ==0 or list2[i-1]%5==0 :\n",
    "        ans2.append(list2[i-1])\n",
    "      i+=1\n",
    "print(ans2)\n"
   ]
  },
  {
   "cell_type": "code",
   "execution_count": 14,
   "id": "7aa4ea21-9c59-4237-9cf4-5954922921f6",
   "metadata": {},
   "outputs": [
    {
     "name": "stdout",
     "output_type": "stream",
     "text": [
      " wnt t bcm  dt scntst\n",
      "The numbers of vowels in string is 12\n"
     ]
    }
   ],
   "source": [
    "# Q5. Write a program to filter count vowels in the below-given string.\n",
    "\n",
    "# string = \"I want to become a data scientist\"\n",
    "s= \"I want to become a data scientist\"\n",
    "count=0\n",
    "vowels=['a','e','i','o','u','A','I','O','U','E']\n",
    "for i in s:\n",
    "    if i in vowels:\n",
    "        count+=1\n",
    "    else:\n",
    "        print(i,end=\"\")\n",
    "print(\"\")\n",
    "print(\"The numbers of vowels in string is\",count)"
   ]
  },
  {
   "cell_type": "code",
   "execution_count": null,
   "id": "6ead9a5c-f335-495c-87f2-b6511d1c757c",
   "metadata": {},
   "outputs": [],
   "source": []
  }
 ],
 "metadata": {
  "kernelspec": {
   "display_name": "Python 3 (ipykernel)",
   "language": "python",
   "name": "python3"
  },
  "language_info": {
   "codemirror_mode": {
    "name": "ipython",
    "version": 3
   },
   "file_extension": ".py",
   "mimetype": "text/x-python",
   "name": "python",
   "nbconvert_exporter": "python",
   "pygments_lexer": "ipython3",
   "version": "3.10.8"
  }
 },
 "nbformat": 4,
 "nbformat_minor": 5
}
